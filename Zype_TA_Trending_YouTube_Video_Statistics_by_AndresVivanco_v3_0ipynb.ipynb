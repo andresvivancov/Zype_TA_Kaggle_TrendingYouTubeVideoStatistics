{
  "nbformat": 4,
  "nbformat_minor": 0,
  "metadata": {
    "colab": {
      "name": "Zype_TA_Trending_YouTube_Video_Statistics_by_AndresVivanco v3.0ipynb",
      "provenance": [],
      "collapsed_sections": [],
      "include_colab_link": true
    },
    "kernelspec": {
      "name": "python3",
      "display_name": "Python 3"
    },
    "accelerator": "TPU"
  },
  "cells": [
    {
      "cell_type": "markdown",
      "metadata": {
        "id": "view-in-github",
        "colab_type": "text"
      },
      "source": [
        "<a href=\"https://colab.research.google.com/github/andresvivancov/Zype_TA_Kaggle_TrendingYouTubeVideoStatistics/blob/master/Zype_TA_Trending_YouTube_Video_Statistics_by_AndresVivanco_v3_0ipynb.ipynb\" target=\"_parent\"><img src=\"https://colab.research.google.com/assets/colab-badge.svg\" alt=\"Open In Colab\"/></a>"
      ]
    },
    {
      "cell_type": "markdown",
      "metadata": {
        "id": "0waI1pQTSBEa",
        "colab_type": "text"
      },
      "source": [
        "# Zype_TechnicalAssessment by Andres Vivanco"
      ]
    },
    {
      "cell_type": "markdown",
      "metadata": {
        "colab_type": "text",
        "id": "2hZ8Q5WpU2HR"
      },
      "source": [
        "## 0. Info"
      ]
    },
    {
      "cell_type": "markdown",
      "metadata": {
        "id": "FqSfDTWJg02N",
        "colab_type": "text"
      },
      "source": [
        "From https://github.com/andresvivancov/Zype_TA_Kaggle_TrendingYouTubeVideoStatistics\n",
        "\n",
        "\n",
        "Original Data Sources https://www.kaggle.com/datasnaek/youtube-new\n",
        "\n",
        "\n",
        "\n",
        "\n",
        "Andres Vivanco \n",
        "\n",
        "\n",
        "July 2020"
      ]
    },
    {
      "cell_type": "markdown",
      "metadata": {
        "id": "FZfOb7k8Sb1y",
        "colab_type": "text"
      },
      "source": [
        "## 1. Data Collection & Integration"
      ]
    },
    {
      "cell_type": "markdown",
      "metadata": {
        "id": "AT1oVNBfphSD",
        "colab_type": "text"
      },
      "source": [
        "Importing libraries"
      ]
    },
    {
      "cell_type": "code",
      "metadata": {
        "id": "zJtDWtJupqoe",
        "colab_type": "code",
        "colab": {}
      },
      "source": [
        "import pandas as pd\n",
        "import json\n",
        "import matplotlib.pyplot as plt\n",
        "\n",
        "%matplotlib inline\n"
      ],
      "execution_count": 1,
      "outputs": []
    },
    {
      "cell_type": "code",
      "metadata": {
        "id": "l-rOjAzvTTeq",
        "colab_type": "code",
        "colab": {}
      },
      "source": [
        "from google.cloud import datastore"
      ],
      "execution_count": 2,
      "outputs": []
    },
    {
      "cell_type": "markdown",
      "metadata": {
        "id": "gEIsIcgpqmR0",
        "colab_type": "text"
      },
      "source": [
        "Importing data"
      ]
    },
    {
      "cell_type": "code",
      "metadata": {
        "id": "EKSK_4yVsCRR",
        "colab_type": "code",
        "colab": {
          "base_uri": "https://localhost:8080/",
          "height": 34
        },
        "outputId": "c6021c6c-3cba-4411-e0af-07861386711a"
      },
      "source": [
        "from google.colab import drive\n",
        "drive.mount('/content/gdrive')"
      ],
      "execution_count": 3,
      "outputs": [
        {
          "output_type": "stream",
          "text": [
            "Drive already mounted at /content/gdrive; to attempt to forcibly remount, call drive.mount(\"/content/gdrive\", force_remount=True).\n"
          ],
          "name": "stdout"
        }
      ]
    },
    {
      "cell_type": "code",
      "metadata": {
        "id": "XRYzY5v4Sfr_",
        "colab_type": "code",
        "colab": {
          "base_uri": "https://localhost:8080/",
          "height": 366
        },
        "outputId": "7d858cbf-ace9-4ac2-85b1-53785924e715"
      },
      "source": [
        "videos = pd.read_csv ('/content/gdrive/My Drive/data/Zype/CAvideos.csv')\n",
        "videos.head(3)"
      ],
      "execution_count": 4,
      "outputs": [
        {
          "output_type": "execute_result",
          "data": {
            "text/html": [
              "<div>\n",
              "<style scoped>\n",
              "    .dataframe tbody tr th:only-of-type {\n",
              "        vertical-align: middle;\n",
              "    }\n",
              "\n",
              "    .dataframe tbody tr th {\n",
              "        vertical-align: top;\n",
              "    }\n",
              "\n",
              "    .dataframe thead th {\n",
              "        text-align: right;\n",
              "    }\n",
              "</style>\n",
              "<table border=\"1\" class=\"dataframe\">\n",
              "  <thead>\n",
              "    <tr style=\"text-align: right;\">\n",
              "      <th></th>\n",
              "      <th>video_id</th>\n",
              "      <th>trending_date</th>\n",
              "      <th>title</th>\n",
              "      <th>channel_title</th>\n",
              "      <th>category_id</th>\n",
              "      <th>publish_time</th>\n",
              "      <th>tags</th>\n",
              "      <th>views</th>\n",
              "      <th>likes</th>\n",
              "      <th>dislikes</th>\n",
              "      <th>comment_count</th>\n",
              "      <th>thumbnail_link</th>\n",
              "      <th>comments_disabled</th>\n",
              "      <th>ratings_disabled</th>\n",
              "      <th>video_error_or_removed</th>\n",
              "      <th>description</th>\n",
              "    </tr>\n",
              "  </thead>\n",
              "  <tbody>\n",
              "    <tr>\n",
              "      <th>0</th>\n",
              "      <td>n1WpP7iowLc</td>\n",
              "      <td>17.14.11</td>\n",
              "      <td>Eminem - Walk On Water (Audio) ft. Beyoncé</td>\n",
              "      <td>EminemVEVO</td>\n",
              "      <td>10</td>\n",
              "      <td>2017-11-10T17:00:03.000Z</td>\n",
              "      <td>Eminem|\"Walk\"|\"On\"|\"Water\"|\"Aftermath/Shady/In...</td>\n",
              "      <td>17158579</td>\n",
              "      <td>787425</td>\n",
              "      <td>43420</td>\n",
              "      <td>125882</td>\n",
              "      <td>https://i.ytimg.com/vi/n1WpP7iowLc/default.jpg</td>\n",
              "      <td>False</td>\n",
              "      <td>False</td>\n",
              "      <td>False</td>\n",
              "      <td>Eminem's new track Walk on Water ft. Beyoncé i...</td>\n",
              "    </tr>\n",
              "    <tr>\n",
              "      <th>1</th>\n",
              "      <td>0dBIkQ4Mz1M</td>\n",
              "      <td>17.14.11</td>\n",
              "      <td>PLUSH - Bad Unboxing Fan Mail</td>\n",
              "      <td>iDubbbzTV</td>\n",
              "      <td>23</td>\n",
              "      <td>2017-11-13T17:00:00.000Z</td>\n",
              "      <td>plush|\"bad unboxing\"|\"unboxing\"|\"fan mail\"|\"id...</td>\n",
              "      <td>1014651</td>\n",
              "      <td>127794</td>\n",
              "      <td>1688</td>\n",
              "      <td>13030</td>\n",
              "      <td>https://i.ytimg.com/vi/0dBIkQ4Mz1M/default.jpg</td>\n",
              "      <td>False</td>\n",
              "      <td>False</td>\n",
              "      <td>False</td>\n",
              "      <td>STill got a lot of packages. Probably will las...</td>\n",
              "    </tr>\n",
              "    <tr>\n",
              "      <th>2</th>\n",
              "      <td>5qpjK5DgCt4</td>\n",
              "      <td>17.14.11</td>\n",
              "      <td>Racist Superman | Rudy Mancuso, King Bach &amp; Le...</td>\n",
              "      <td>Rudy Mancuso</td>\n",
              "      <td>23</td>\n",
              "      <td>2017-11-12T19:05:24.000Z</td>\n",
              "      <td>racist superman|\"rudy\"|\"mancuso\"|\"king\"|\"bach\"...</td>\n",
              "      <td>3191434</td>\n",
              "      <td>146035</td>\n",
              "      <td>5339</td>\n",
              "      <td>8181</td>\n",
              "      <td>https://i.ytimg.com/vi/5qpjK5DgCt4/default.jpg</td>\n",
              "      <td>False</td>\n",
              "      <td>False</td>\n",
              "      <td>False</td>\n",
              "      <td>WATCH MY PREVIOUS VIDEO ▶ \\n\\nSUBSCRIBE ► http...</td>\n",
              "    </tr>\n",
              "  </tbody>\n",
              "</table>\n",
              "</div>"
            ],
            "text/plain": [
              "      video_id  ...                                        description\n",
              "0  n1WpP7iowLc  ...  Eminem's new track Walk on Water ft. Beyoncé i...\n",
              "1  0dBIkQ4Mz1M  ...  STill got a lot of packages. Probably will las...\n",
              "2  5qpjK5DgCt4  ...  WATCH MY PREVIOUS VIDEO ▶ \\n\\nSUBSCRIBE ► http...\n",
              "\n",
              "[3 rows x 16 columns]"
            ]
          },
          "metadata": {
            "tags": []
          },
          "execution_count": 4
        }
      ]
    },
    {
      "cell_type": "code",
      "metadata": {
        "id": "H9IUOn89qWJK",
        "colab_type": "code",
        "colab": {}
      },
      "source": [
        "with open(\"/content/gdrive/My Drive/data/Zype/CA_category_id.json\") as f:\n",
        "    categories = json.load(f)[\"items\"]\n",
        "category_dict = {}\n",
        "for cat in categories:\n",
        "    category_dict[int(cat[\"id\"])] = cat[\"snippet\"][\"title\"]\n",
        "videos['category_name'] = videos['category_id'].map(category_dict)"
      ],
      "execution_count": 5,
      "outputs": []
    },
    {
      "cell_type": "code",
      "metadata": {
        "id": "hfNVliP7qWGq",
        "colab_type": "code",
        "colab": {
          "base_uri": "https://localhost:8080/",
          "height": 564
        },
        "outputId": "1ca3df58-e24b-4790-ae41-164bdeb55aba"
      },
      "source": [
        "videos.head(5)"
      ],
      "execution_count": 6,
      "outputs": [
        {
          "output_type": "execute_result",
          "data": {
            "text/html": [
              "<div>\n",
              "<style scoped>\n",
              "    .dataframe tbody tr th:only-of-type {\n",
              "        vertical-align: middle;\n",
              "    }\n",
              "\n",
              "    .dataframe tbody tr th {\n",
              "        vertical-align: top;\n",
              "    }\n",
              "\n",
              "    .dataframe thead th {\n",
              "        text-align: right;\n",
              "    }\n",
              "</style>\n",
              "<table border=\"1\" class=\"dataframe\">\n",
              "  <thead>\n",
              "    <tr style=\"text-align: right;\">\n",
              "      <th></th>\n",
              "      <th>video_id</th>\n",
              "      <th>trending_date</th>\n",
              "      <th>title</th>\n",
              "      <th>channel_title</th>\n",
              "      <th>category_id</th>\n",
              "      <th>publish_time</th>\n",
              "      <th>tags</th>\n",
              "      <th>views</th>\n",
              "      <th>likes</th>\n",
              "      <th>dislikes</th>\n",
              "      <th>comment_count</th>\n",
              "      <th>thumbnail_link</th>\n",
              "      <th>comments_disabled</th>\n",
              "      <th>ratings_disabled</th>\n",
              "      <th>video_error_or_removed</th>\n",
              "      <th>description</th>\n",
              "      <th>category_name</th>\n",
              "    </tr>\n",
              "  </thead>\n",
              "  <tbody>\n",
              "    <tr>\n",
              "      <th>0</th>\n",
              "      <td>n1WpP7iowLc</td>\n",
              "      <td>17.14.11</td>\n",
              "      <td>Eminem - Walk On Water (Audio) ft. Beyoncé</td>\n",
              "      <td>EminemVEVO</td>\n",
              "      <td>10</td>\n",
              "      <td>2017-11-10T17:00:03.000Z</td>\n",
              "      <td>Eminem|\"Walk\"|\"On\"|\"Water\"|\"Aftermath/Shady/In...</td>\n",
              "      <td>17158579</td>\n",
              "      <td>787425</td>\n",
              "      <td>43420</td>\n",
              "      <td>125882</td>\n",
              "      <td>https://i.ytimg.com/vi/n1WpP7iowLc/default.jpg</td>\n",
              "      <td>False</td>\n",
              "      <td>False</td>\n",
              "      <td>False</td>\n",
              "      <td>Eminem's new track Walk on Water ft. Beyoncé i...</td>\n",
              "      <td>Music</td>\n",
              "    </tr>\n",
              "    <tr>\n",
              "      <th>1</th>\n",
              "      <td>0dBIkQ4Mz1M</td>\n",
              "      <td>17.14.11</td>\n",
              "      <td>PLUSH - Bad Unboxing Fan Mail</td>\n",
              "      <td>iDubbbzTV</td>\n",
              "      <td>23</td>\n",
              "      <td>2017-11-13T17:00:00.000Z</td>\n",
              "      <td>plush|\"bad unboxing\"|\"unboxing\"|\"fan mail\"|\"id...</td>\n",
              "      <td>1014651</td>\n",
              "      <td>127794</td>\n",
              "      <td>1688</td>\n",
              "      <td>13030</td>\n",
              "      <td>https://i.ytimg.com/vi/0dBIkQ4Mz1M/default.jpg</td>\n",
              "      <td>False</td>\n",
              "      <td>False</td>\n",
              "      <td>False</td>\n",
              "      <td>STill got a lot of packages. Probably will las...</td>\n",
              "      <td>Comedy</td>\n",
              "    </tr>\n",
              "    <tr>\n",
              "      <th>2</th>\n",
              "      <td>5qpjK5DgCt4</td>\n",
              "      <td>17.14.11</td>\n",
              "      <td>Racist Superman | Rudy Mancuso, King Bach &amp; Le...</td>\n",
              "      <td>Rudy Mancuso</td>\n",
              "      <td>23</td>\n",
              "      <td>2017-11-12T19:05:24.000Z</td>\n",
              "      <td>racist superman|\"rudy\"|\"mancuso\"|\"king\"|\"bach\"...</td>\n",
              "      <td>3191434</td>\n",
              "      <td>146035</td>\n",
              "      <td>5339</td>\n",
              "      <td>8181</td>\n",
              "      <td>https://i.ytimg.com/vi/5qpjK5DgCt4/default.jpg</td>\n",
              "      <td>False</td>\n",
              "      <td>False</td>\n",
              "      <td>False</td>\n",
              "      <td>WATCH MY PREVIOUS VIDEO ▶ \\n\\nSUBSCRIBE ► http...</td>\n",
              "      <td>Comedy</td>\n",
              "    </tr>\n",
              "    <tr>\n",
              "      <th>3</th>\n",
              "      <td>d380meD0W0M</td>\n",
              "      <td>17.14.11</td>\n",
              "      <td>I Dare You: GOING BALD!?</td>\n",
              "      <td>nigahiga</td>\n",
              "      <td>24</td>\n",
              "      <td>2017-11-12T18:01:41.000Z</td>\n",
              "      <td>ryan|\"higa\"|\"higatv\"|\"nigahiga\"|\"i dare you\"|\"...</td>\n",
              "      <td>2095828</td>\n",
              "      <td>132239</td>\n",
              "      <td>1989</td>\n",
              "      <td>17518</td>\n",
              "      <td>https://i.ytimg.com/vi/d380meD0W0M/default.jpg</td>\n",
              "      <td>False</td>\n",
              "      <td>False</td>\n",
              "      <td>False</td>\n",
              "      <td>I know it's been a while since we did this sho...</td>\n",
              "      <td>Entertainment</td>\n",
              "    </tr>\n",
              "    <tr>\n",
              "      <th>4</th>\n",
              "      <td>2Vv-BfVoq4g</td>\n",
              "      <td>17.14.11</td>\n",
              "      <td>Ed Sheeran - Perfect (Official Music Video)</td>\n",
              "      <td>Ed Sheeran</td>\n",
              "      <td>10</td>\n",
              "      <td>2017-11-09T11:04:14.000Z</td>\n",
              "      <td>edsheeran|\"ed sheeran\"|\"acoustic\"|\"live\"|\"cove...</td>\n",
              "      <td>33523622</td>\n",
              "      <td>1634130</td>\n",
              "      <td>21082</td>\n",
              "      <td>85067</td>\n",
              "      <td>https://i.ytimg.com/vi/2Vv-BfVoq4g/default.jpg</td>\n",
              "      <td>False</td>\n",
              "      <td>False</td>\n",
              "      <td>False</td>\n",
              "      <td>🎧: https://ad.gt/yt-perfect\\n💰: https://atlant...</td>\n",
              "      <td>Music</td>\n",
              "    </tr>\n",
              "  </tbody>\n",
              "</table>\n",
              "</div>"
            ],
            "text/plain": [
              "      video_id  ...  category_name\n",
              "0  n1WpP7iowLc  ...          Music\n",
              "1  0dBIkQ4Mz1M  ...         Comedy\n",
              "2  5qpjK5DgCt4  ...         Comedy\n",
              "3  d380meD0W0M  ...  Entertainment\n",
              "4  2Vv-BfVoq4g  ...          Music\n",
              "\n",
              "[5 rows x 17 columns]"
            ]
          },
          "metadata": {
            "tags": []
          },
          "execution_count": 6
        }
      ]
    },
    {
      "cell_type": "markdown",
      "metadata": {
        "colab_type": "text",
        "id": "l50MPb9UT7Al"
      },
      "source": [
        "## 2. Data Preparation"
      ]
    },
    {
      "cell_type": "markdown",
      "metadata": {
        "id": "xEYXL4Ns8hdB",
        "colab_type": "text"
      },
      "source": [
        "Removing unwanted characters"
      ]
    },
    {
      "cell_type": "code",
      "metadata": {
        "id": "10tjKfUI7URF",
        "colab_type": "code",
        "colab": {}
      },
      "source": [
        "spec_chars = [\"!\",'\"',\"#\",\"%\",\"&\",\"'\",\"(\",\")\",\n",
        "              \"*\",\"+\",\",\",\"-\",\".\",\"/\",\":\",\";\",\"<\",\n",
        "              \"=\",\">\",\"?\",\"@\",\"[\",\"\\\\\",\"]\",\"^\",\"_\",\n",
        "              \"`\",\"{\",\"|\",\"}\",\"~\",\"–\", \"▶\", \"🎧\", \"💰\", \"► \"]\n",
        "for char in spec_chars:\n",
        "    videos['description'] = videos['description'].str.replace(char, ' ')"
      ],
      "execution_count": 7,
      "outputs": []
    },
    {
      "cell_type": "code",
      "metadata": {
        "id": "5HDsUoKe7ba8",
        "colab_type": "code",
        "colab": {
          "base_uri": "https://localhost:8080/",
          "height": 564
        },
        "outputId": "f511d197-51a6-49ea-a801-1c90b9553814"
      },
      "source": [
        "videos.head(5)"
      ],
      "execution_count": 8,
      "outputs": [
        {
          "output_type": "execute_result",
          "data": {
            "text/html": [
              "<div>\n",
              "<style scoped>\n",
              "    .dataframe tbody tr th:only-of-type {\n",
              "        vertical-align: middle;\n",
              "    }\n",
              "\n",
              "    .dataframe tbody tr th {\n",
              "        vertical-align: top;\n",
              "    }\n",
              "\n",
              "    .dataframe thead th {\n",
              "        text-align: right;\n",
              "    }\n",
              "</style>\n",
              "<table border=\"1\" class=\"dataframe\">\n",
              "  <thead>\n",
              "    <tr style=\"text-align: right;\">\n",
              "      <th></th>\n",
              "      <th>video_id</th>\n",
              "      <th>trending_date</th>\n",
              "      <th>title</th>\n",
              "      <th>channel_title</th>\n",
              "      <th>category_id</th>\n",
              "      <th>publish_time</th>\n",
              "      <th>tags</th>\n",
              "      <th>views</th>\n",
              "      <th>likes</th>\n",
              "      <th>dislikes</th>\n",
              "      <th>comment_count</th>\n",
              "      <th>thumbnail_link</th>\n",
              "      <th>comments_disabled</th>\n",
              "      <th>ratings_disabled</th>\n",
              "      <th>video_error_or_removed</th>\n",
              "      <th>description</th>\n",
              "      <th>category_name</th>\n",
              "    </tr>\n",
              "  </thead>\n",
              "  <tbody>\n",
              "    <tr>\n",
              "      <th>0</th>\n",
              "      <td>n1WpP7iowLc</td>\n",
              "      <td>17.14.11</td>\n",
              "      <td>Eminem - Walk On Water (Audio) ft. Beyoncé</td>\n",
              "      <td>EminemVEVO</td>\n",
              "      <td>10</td>\n",
              "      <td>2017-11-10T17:00:03.000Z</td>\n",
              "      <td>Eminem|\"Walk\"|\"On\"|\"Water\"|\"Aftermath/Shady/In...</td>\n",
              "      <td>17158579</td>\n",
              "      <td>787425</td>\n",
              "      <td>43420</td>\n",
              "      <td>125882</td>\n",
              "      <td>https://i.ytimg.com/vi/n1WpP7iowLc/default.jpg</td>\n",
              "      <td>False</td>\n",
              "      <td>False</td>\n",
              "      <td>False</td>\n",
              "      <td>Eminem s new track Walk on Water ft  Beyoncé i...</td>\n",
              "      <td>Music</td>\n",
              "    </tr>\n",
              "    <tr>\n",
              "      <th>1</th>\n",
              "      <td>0dBIkQ4Mz1M</td>\n",
              "      <td>17.14.11</td>\n",
              "      <td>PLUSH - Bad Unboxing Fan Mail</td>\n",
              "      <td>iDubbbzTV</td>\n",
              "      <td>23</td>\n",
              "      <td>2017-11-13T17:00:00.000Z</td>\n",
              "      <td>plush|\"bad unboxing\"|\"unboxing\"|\"fan mail\"|\"id...</td>\n",
              "      <td>1014651</td>\n",
              "      <td>127794</td>\n",
              "      <td>1688</td>\n",
              "      <td>13030</td>\n",
              "      <td>https://i.ytimg.com/vi/0dBIkQ4Mz1M/default.jpg</td>\n",
              "      <td>False</td>\n",
              "      <td>False</td>\n",
              "      <td>False</td>\n",
              "      <td>STill got a lot of packages  Probably will las...</td>\n",
              "      <td>Comedy</td>\n",
              "    </tr>\n",
              "    <tr>\n",
              "      <th>2</th>\n",
              "      <td>5qpjK5DgCt4</td>\n",
              "      <td>17.14.11</td>\n",
              "      <td>Racist Superman | Rudy Mancuso, King Bach &amp; Le...</td>\n",
              "      <td>Rudy Mancuso</td>\n",
              "      <td>23</td>\n",
              "      <td>2017-11-12T19:05:24.000Z</td>\n",
              "      <td>racist superman|\"rudy\"|\"mancuso\"|\"king\"|\"bach\"...</td>\n",
              "      <td>3191434</td>\n",
              "      <td>146035</td>\n",
              "      <td>5339</td>\n",
              "      <td>8181</td>\n",
              "      <td>https://i.ytimg.com/vi/5qpjK5DgCt4/default.jpg</td>\n",
              "      <td>False</td>\n",
              "      <td>False</td>\n",
              "      <td>False</td>\n",
              "      <td>WATCH MY PREVIOUS VIDEO    n nSUBSCRIBE  https...</td>\n",
              "      <td>Comedy</td>\n",
              "    </tr>\n",
              "    <tr>\n",
              "      <th>3</th>\n",
              "      <td>d380meD0W0M</td>\n",
              "      <td>17.14.11</td>\n",
              "      <td>I Dare You: GOING BALD!?</td>\n",
              "      <td>nigahiga</td>\n",
              "      <td>24</td>\n",
              "      <td>2017-11-12T18:01:41.000Z</td>\n",
              "      <td>ryan|\"higa\"|\"higatv\"|\"nigahiga\"|\"i dare you\"|\"...</td>\n",
              "      <td>2095828</td>\n",
              "      <td>132239</td>\n",
              "      <td>1989</td>\n",
              "      <td>17518</td>\n",
              "      <td>https://i.ytimg.com/vi/d380meD0W0M/default.jpg</td>\n",
              "      <td>False</td>\n",
              "      <td>False</td>\n",
              "      <td>False</td>\n",
              "      <td>I know it s been a while since we did this sho...</td>\n",
              "      <td>Entertainment</td>\n",
              "    </tr>\n",
              "    <tr>\n",
              "      <th>4</th>\n",
              "      <td>2Vv-BfVoq4g</td>\n",
              "      <td>17.14.11</td>\n",
              "      <td>Ed Sheeran - Perfect (Official Music Video)</td>\n",
              "      <td>Ed Sheeran</td>\n",
              "      <td>10</td>\n",
              "      <td>2017-11-09T11:04:14.000Z</td>\n",
              "      <td>edsheeran|\"ed sheeran\"|\"acoustic\"|\"live\"|\"cove...</td>\n",
              "      <td>33523622</td>\n",
              "      <td>1634130</td>\n",
              "      <td>21082</td>\n",
              "      <td>85067</td>\n",
              "      <td>https://i.ytimg.com/vi/2Vv-BfVoq4g/default.jpg</td>\n",
              "      <td>False</td>\n",
              "      <td>False</td>\n",
              "      <td>False</td>\n",
              "      <td>https   ad gt yt perfect n   https   atlant...</td>\n",
              "      <td>Music</td>\n",
              "    </tr>\n",
              "  </tbody>\n",
              "</table>\n",
              "</div>"
            ],
            "text/plain": [
              "      video_id  ...  category_name\n",
              "0  n1WpP7iowLc  ...          Music\n",
              "1  0dBIkQ4Mz1M  ...         Comedy\n",
              "2  5qpjK5DgCt4  ...         Comedy\n",
              "3  d380meD0W0M  ...  Entertainment\n",
              "4  2Vv-BfVoq4g  ...          Music\n",
              "\n",
              "[5 rows x 17 columns]"
            ]
          },
          "metadata": {
            "tags": []
          },
          "execution_count": 8
        }
      ]
    },
    {
      "cell_type": "markdown",
      "metadata": {
        "id": "kkLzi2_fvliY",
        "colab_type": "text"
      },
      "source": [
        "Null Analysis"
      ]
    },
    {
      "cell_type": "code",
      "metadata": {
        "id": "P4t3oi5otlKY",
        "colab_type": "code",
        "colab": {
          "base_uri": "https://localhost:8080/",
          "height": 323
        },
        "outputId": "ad9f9f8a-1363-447f-d1ad-11315129ae57"
      },
      "source": [
        "videos.isnull().sum()"
      ],
      "execution_count": 9,
      "outputs": [
        {
          "output_type": "execute_result",
          "data": {
            "text/plain": [
              "video_id                     0\n",
              "trending_date                0\n",
              "title                        0\n",
              "channel_title                0\n",
              "category_id                  0\n",
              "publish_time                 0\n",
              "tags                         0\n",
              "views                        0\n",
              "likes                        0\n",
              "dislikes                     0\n",
              "comment_count                0\n",
              "thumbnail_link               0\n",
              "comments_disabled            0\n",
              "ratings_disabled             0\n",
              "video_error_or_removed       0\n",
              "description               1296\n",
              "category_name               74\n",
              "dtype: int64"
            ]
          },
          "metadata": {
            "tags": []
          },
          "execution_count": 9
        }
      ]
    },
    {
      "cell_type": "code",
      "metadata": {
        "id": "WLveeng2tlZb",
        "colab_type": "code",
        "colab": {}
      },
      "source": [
        "videos[\"description\"].fillna(\"no_description\", inplace = True) \n",
        "videos[\"category_name\"].fillna(\"Unknown\", inplace = True) "
      ],
      "execution_count": 10,
      "outputs": []
    },
    {
      "cell_type": "code",
      "metadata": {
        "id": "-cr9Ip6ztk_f",
        "colab_type": "code",
        "colab": {
          "base_uri": "https://localhost:8080/",
          "height": 323
        },
        "outputId": "a5f2dd5f-7d18-41d0-f92b-f576959a9144"
      },
      "source": [
        "videos.isnull().sum()"
      ],
      "execution_count": 11,
      "outputs": [
        {
          "output_type": "execute_result",
          "data": {
            "text/plain": [
              "video_id                  0\n",
              "trending_date             0\n",
              "title                     0\n",
              "channel_title             0\n",
              "category_id               0\n",
              "publish_time              0\n",
              "tags                      0\n",
              "views                     0\n",
              "likes                     0\n",
              "dislikes                  0\n",
              "comment_count             0\n",
              "thumbnail_link            0\n",
              "comments_disabled         0\n",
              "ratings_disabled          0\n",
              "video_error_or_removed    0\n",
              "description               0\n",
              "category_name             0\n",
              "dtype: int64"
            ]
          },
          "metadata": {
            "tags": []
          },
          "execution_count": 11
        }
      ]
    },
    {
      "cell_type": "code",
      "metadata": {
        "id": "PITdCtLtwQGi",
        "colab_type": "code",
        "colab": {
          "base_uri": "https://localhost:8080/",
          "height": 34
        },
        "outputId": "d22348b5-9da4-4aee-aa38-08736bee9670"
      },
      "source": [
        "videos.isnull().values.any()"
      ],
      "execution_count": 12,
      "outputs": [
        {
          "output_type": "execute_result",
          "data": {
            "text/plain": [
              "False"
            ]
          },
          "metadata": {
            "tags": []
          },
          "execution_count": 12
        }
      ]
    },
    {
      "cell_type": "markdown",
      "metadata": {
        "id": "Ym7IkbJ9vrhW",
        "colab_type": "text"
      },
      "source": [
        "Dtypes Analysis"
      ]
    },
    {
      "cell_type": "code",
      "metadata": {
        "id": "8BWh7yKKvMCQ",
        "colab_type": "code",
        "colab": {
          "base_uri": "https://localhost:8080/",
          "height": 323
        },
        "outputId": "8ef2bf77-460c-40e4-f630-f03157f84c1d"
      },
      "source": [
        "videos.dtypes"
      ],
      "execution_count": 13,
      "outputs": [
        {
          "output_type": "execute_result",
          "data": {
            "text/plain": [
              "video_id                  object\n",
              "trending_date             object\n",
              "title                     object\n",
              "channel_title             object\n",
              "category_id                int64\n",
              "publish_time              object\n",
              "tags                      object\n",
              "views                      int64\n",
              "likes                      int64\n",
              "dislikes                   int64\n",
              "comment_count              int64\n",
              "thumbnail_link            object\n",
              "comments_disabled           bool\n",
              "ratings_disabled            bool\n",
              "video_error_or_removed      bool\n",
              "description               object\n",
              "category_name             object\n",
              "dtype: object"
            ]
          },
          "metadata": {
            "tags": []
          },
          "execution_count": 13
        }
      ]
    },
    {
      "cell_type": "code",
      "metadata": {
        "id": "WQFZtb9R3aaB",
        "colab_type": "code",
        "colab": {}
      },
      "source": [
        "videos['publish_time'] = videos['publish_time'].astype('datetime64[ns]') "
      ],
      "execution_count": 14,
      "outputs": []
    },
    {
      "cell_type": "code",
      "metadata": {
        "id": "EsgY4KDS453N",
        "colab_type": "code",
        "colab": {
          "base_uri": "https://localhost:8080/",
          "height": 323
        },
        "outputId": "09868f70-45de-4f41-8d6b-b518b0c7ffb8"
      },
      "source": [
        "videos.dtypes"
      ],
      "execution_count": 15,
      "outputs": [
        {
          "output_type": "execute_result",
          "data": {
            "text/plain": [
              "video_id                          object\n",
              "trending_date                     object\n",
              "title                             object\n",
              "channel_title                     object\n",
              "category_id                        int64\n",
              "publish_time              datetime64[ns]\n",
              "tags                              object\n",
              "views                              int64\n",
              "likes                              int64\n",
              "dislikes                           int64\n",
              "comment_count                      int64\n",
              "thumbnail_link                    object\n",
              "comments_disabled                   bool\n",
              "ratings_disabled                    bool\n",
              "video_error_or_removed              bool\n",
              "description                       object\n",
              "category_name                     object\n",
              "dtype: object"
            ]
          },
          "metadata": {
            "tags": []
          },
          "execution_count": 15
        }
      ]
    },
    {
      "cell_type": "code",
      "metadata": {
        "id": "sKZgyBQ4v7nz",
        "colab_type": "code",
        "colab": {
          "base_uri": "https://localhost:8080/",
          "height": 34
        },
        "outputId": "c5be57b6-4afc-49f5-ab82-9e7830c52622"
      },
      "source": [
        "videos.shape"
      ],
      "execution_count": 16,
      "outputs": [
        {
          "output_type": "execute_result",
          "data": {
            "text/plain": [
              "(40881, 17)"
            ]
          },
          "metadata": {
            "tags": []
          },
          "execution_count": 16
        }
      ]
    },
    {
      "cell_type": "code",
      "metadata": {
        "id": "SOCmhPUav7dq",
        "colab_type": "code",
        "colab": {
          "base_uri": "https://localhost:8080/",
          "height": 323
        },
        "outputId": "7c00da82-6493-43d6-f5e2-838d03080408"
      },
      "source": [
        "videos['category_name'].value_counts()"
      ],
      "execution_count": 17,
      "outputs": [
        {
          "output_type": "execute_result",
          "data": {
            "text/plain": [
              "Entertainment           13451\n",
              "News & Politics          4159\n",
              "People & Blogs           4105\n",
              "Comedy                   3773\n",
              "Music                    3731\n",
              "Sports                   2787\n",
              "Film & Animation         2060\n",
              "Howto & Style            2007\n",
              "Gaming                   1344\n",
              "Science & Technology     1155\n",
              "Education                 991\n",
              "Travel & Events           392\n",
              "Pets & Animals            369\n",
              "Autos & Vehicles          353\n",
              "Shows                     124\n",
              "Unknown                    74\n",
              "Movies                      6\n",
              "Name: category_name, dtype: int64"
            ]
          },
          "metadata": {
            "tags": []
          },
          "execution_count": 17
        }
      ]
    },
    {
      "cell_type": "markdown",
      "metadata": {
        "id": "Buc_ngeCXt80",
        "colab_type": "text"
      },
      "source": [
        "###Checking correlation"
      ]
    },
    {
      "cell_type": "code",
      "metadata": {
        "id": "YxPrTQY-XKjp",
        "colab_type": "code",
        "colab": {
          "base_uri": "https://localhost:8080/",
          "height": 297
        },
        "outputId": "7dae2765-4c2f-4d20-eb04-9fa69f7d5622"
      },
      "source": [
        "videos.corr(method= 'pearson')"
      ],
      "execution_count": 18,
      "outputs": [
        {
          "output_type": "execute_result",
          "data": {
            "text/html": [
              "<div>\n",
              "<style scoped>\n",
              "    .dataframe tbody tr th:only-of-type {\n",
              "        vertical-align: middle;\n",
              "    }\n",
              "\n",
              "    .dataframe tbody tr th {\n",
              "        vertical-align: top;\n",
              "    }\n",
              "\n",
              "    .dataframe thead th {\n",
              "        text-align: right;\n",
              "    }\n",
              "</style>\n",
              "<table border=\"1\" class=\"dataframe\">\n",
              "  <thead>\n",
              "    <tr style=\"text-align: right;\">\n",
              "      <th></th>\n",
              "      <th>category_id</th>\n",
              "      <th>views</th>\n",
              "      <th>likes</th>\n",
              "      <th>dislikes</th>\n",
              "      <th>comment_count</th>\n",
              "      <th>comments_disabled</th>\n",
              "      <th>ratings_disabled</th>\n",
              "      <th>video_error_or_removed</th>\n",
              "    </tr>\n",
              "  </thead>\n",
              "  <tbody>\n",
              "    <tr>\n",
              "      <th>category_id</th>\n",
              "      <td>1.000000</td>\n",
              "      <td>-0.139610</td>\n",
              "      <td>-0.144363</td>\n",
              "      <td>-0.028731</td>\n",
              "      <td>-0.068848</td>\n",
              "      <td>0.038741</td>\n",
              "      <td>0.018377</td>\n",
              "      <td>-0.030002</td>\n",
              "    </tr>\n",
              "    <tr>\n",
              "      <th>views</th>\n",
              "      <td>-0.139610</td>\n",
              "      <td>1.000000</td>\n",
              "      <td>0.828964</td>\n",
              "      <td>0.557621</td>\n",
              "      <td>0.693107</td>\n",
              "      <td>0.004424</td>\n",
              "      <td>0.005745</td>\n",
              "      <td>0.001928</td>\n",
              "    </tr>\n",
              "    <tr>\n",
              "      <th>likes</th>\n",
              "      <td>-0.144363</td>\n",
              "      <td>0.828964</td>\n",
              "      <td>1.000000</td>\n",
              "      <td>0.460427</td>\n",
              "      <td>0.836585</td>\n",
              "      <td>-0.023057</td>\n",
              "      <td>-0.024729</td>\n",
              "      <td>0.001953</td>\n",
              "    </tr>\n",
              "    <tr>\n",
              "      <th>dislikes</th>\n",
              "      <td>-0.028731</td>\n",
              "      <td>0.557621</td>\n",
              "      <td>0.460427</td>\n",
              "      <td>1.000000</td>\n",
              "      <td>0.643494</td>\n",
              "      <td>-0.005282</td>\n",
              "      <td>-0.008762</td>\n",
              "      <td>0.000636</td>\n",
              "    </tr>\n",
              "    <tr>\n",
              "      <th>comment_count</th>\n",
              "      <td>-0.068848</td>\n",
              "      <td>0.693107</td>\n",
              "      <td>0.836585</td>\n",
              "      <td>0.643494</td>\n",
              "      <td>1.000000</td>\n",
              "      <td>-0.028109</td>\n",
              "      <td>-0.016602</td>\n",
              "      <td>0.003117</td>\n",
              "    </tr>\n",
              "    <tr>\n",
              "      <th>comments_disabled</th>\n",
              "      <td>0.038741</td>\n",
              "      <td>0.004424</td>\n",
              "      <td>-0.023057</td>\n",
              "      <td>-0.005282</td>\n",
              "      <td>-0.028109</td>\n",
              "      <td>1.000000</td>\n",
              "      <td>0.147903</td>\n",
              "      <td>-0.003092</td>\n",
              "    </tr>\n",
              "    <tr>\n",
              "      <th>ratings_disabled</th>\n",
              "      <td>0.018377</td>\n",
              "      <td>0.005745</td>\n",
              "      <td>-0.024729</td>\n",
              "      <td>-0.008762</td>\n",
              "      <td>-0.016602</td>\n",
              "      <td>0.147903</td>\n",
              "      <td>1.000000</td>\n",
              "      <td>-0.002131</td>\n",
              "    </tr>\n",
              "    <tr>\n",
              "      <th>video_error_or_removed</th>\n",
              "      <td>-0.030002</td>\n",
              "      <td>0.001928</td>\n",
              "      <td>0.001953</td>\n",
              "      <td>0.000636</td>\n",
              "      <td>0.003117</td>\n",
              "      <td>-0.003092</td>\n",
              "      <td>-0.002131</td>\n",
              "      <td>1.000000</td>\n",
              "    </tr>\n",
              "  </tbody>\n",
              "</table>\n",
              "</div>"
            ],
            "text/plain": [
              "                        category_id  ...  video_error_or_removed\n",
              "category_id                1.000000  ...               -0.030002\n",
              "views                     -0.139610  ...                0.001928\n",
              "likes                     -0.144363  ...                0.001953\n",
              "dislikes                  -0.028731  ...                0.000636\n",
              "comment_count             -0.068848  ...                0.003117\n",
              "comments_disabled          0.038741  ...               -0.003092\n",
              "ratings_disabled           0.018377  ...               -0.002131\n",
              "video_error_or_removed    -0.030002  ...                1.000000\n",
              "\n",
              "[8 rows x 8 columns]"
            ]
          },
          "metadata": {
            "tags": []
          },
          "execution_count": 18
        }
      ]
    },
    {
      "cell_type": "markdown",
      "metadata": {
        "colab_type": "text",
        "id": "2p0srUeDT7Sh"
      },
      "source": [
        "## 3. Data Visualization & Analysis"
      ]
    },
    {
      "cell_type": "code",
      "metadata": {
        "id": "drd7X3OyUUn9",
        "colab_type": "code",
        "colab": {}
      },
      "source": [
        "def plot_correlation (df, size =11):\n",
        "  corr= df.corr()\n",
        "  fig, ax = plt.subplots (figsize=(size, size))\n",
        "  ax.matshow(corr)\n",
        "  plt.xticks (range(len(corr.columns)), corr.columns)\n",
        "  plt.yticks (range(len(corr.columns)), corr.columns)"
      ],
      "execution_count": 19,
      "outputs": []
    },
    {
      "cell_type": "code",
      "metadata": {
        "id": "7AmYYXr8UUqC",
        "colab_type": "code",
        "colab": {
          "base_uri": "https://localhost:8080/",
          "height": 650
        },
        "outputId": "b4a977bb-a1da-4da7-d6b8-1a741b731a6c"
      },
      "source": [
        "plot_correlation (videos)"
      ],
      "execution_count": 20,
      "outputs": [
        {
          "output_type": "display_data",
          "data": {
            "image/png": "[encoded data removed]",
            "text/plain": [
              "<Figure size 792x792 with 1 Axes>"
            ]
          },
          "metadata": {
            "tags": [],
            "needs_background": "light"
          }
        }
      ]
    },
    {
      "cell_type": "code",
      "metadata": {
        "id": "q1_ljWhGgL7S",
        "colab_type": "code",
        "colab": {
          "base_uri": "https://localhost:8080/",
          "height": 534
        },
        "outputId": "32b0a2a9-c8b9-4cfb-dbeb-2e5065bffa97"
      },
      "source": [
        "#bivariate relationships\n",
        "\n",
        "plt.figure(figsize= (10,8))\n",
        "\n",
        "plt.scatter(videos['views'], videos['likes'], s=200)\n",
        "\n",
        "plt.xlabel ('Views', fontsize= 20)\n",
        "plt.ylabel ('Likes', fontsize= 20)\n",
        "plt.show\n",
        "#Views vs Likes"
      ],
      "execution_count": 21,
      "outputs": [
        {
          "output_type": "execute_result",
          "data": {
            "text/plain": [
              "<function matplotlib.pyplot.show>"
            ]
          },
          "metadata": {
            "tags": []
          },
          "execution_count": 21
        },
        {
          "output_type": "display_data",
          "data": {
            "image/png": "[encoded data removed]",
            "text/plain": [
              "<Figure size 720x576 with 1 Axes>"
            ]
          },
          "metadata": {
            "tags": [],
            "needs_background": "light"
          }
        }
      ]
    },
    {
      "cell_type": "code",
      "metadata": {
        "id": "1NA8uFlqyE4_",
        "colab_type": "code",
        "colab": {
          "base_uri": "https://localhost:8080/",
          "height": 761
        },
        "outputId": "999b36fb-eecd-4927-a842-3373db29ed19"
      },
      "source": [
        "import seaborn as sns\n",
        "print(\"Category Name count\")\n",
        "print(videos.category_name.value_counts()[:5])\n",
        "\n",
        "plt.figure(figsize = (14,9))\n",
        "\n",
        "plt.subplot(211)\n",
        "g = sns.countplot('category_name', data=videos, palette=\"Set1\")\n",
        "g.set_xticklabels(g.get_xticklabels(),rotation=45)\n",
        "g.set_title(\"Counting the Video Category's \", fontsize=15)\n",
        "g.set_xlabel(\"\", fontsize=12)\n",
        "g.set_ylabel(\"Count videos\", fontsize=12)\n",
        "\n",
        "plt.subplot(212)\n",
        "g1 = sns.boxplot(x='category_name', y='views', data=videos, palette=\"Set1\")\n",
        "g1.set_xticklabels(g.get_xticklabels(),rotation=45)\n",
        "g1.set_title(\"Views Distribuition by Category Names\", fontsize=20)\n",
        "g1.set_xlabel(\"\", fontsize=15)\n",
        "g1.set_ylabel(\"Views\", fontsize=15)\n",
        "\n",
        "plt.subplots_adjust(hspace = 0.9, top = 0.9)\n",
        "\n",
        "plt.show()"
      ],
      "execution_count": 23,
      "outputs": [
        {
          "output_type": "stream",
          "text": [
            "Category Name count\n",
            "Entertainment      13451\n",
            "News & Politics     4159\n",
            "People & Blogs      4105\n",
            "Comedy              3773\n",
            "Music               3731\n",
            "Name: category_name, dtype: int64\n"
          ],
          "name": "stdout"
        },
        {
          "output_type": "display_data",
          "data": {
            "image/png": "[encoded data removed]",
            "text/plain": [
              "<Figure size 1008x648 with 2 Axes>"
            ]
          },
          "metadata": {
            "tags": [],
            "needs_background": "light"
          }
        }
      ]
    },
    {
      "cell_type": "markdown",
      "metadata": {
        "colab_type": "text",
        "id": "nRriYYmpT7f-"
      },
      "source": [
        "## 4. Feauture Selection & Engineering"
      ]
    },
    {
      "cell_type": "markdown",
      "metadata": {
        "id": "KtObV7Bd9tXO",
        "colab_type": "text"
      },
      "source": [
        "In this case, for load into Big Query, we will load whole columns"
      ]
    },
    {
      "cell_type": "markdown",
      "metadata": {
        "id": "Egtkzz7GXvHa",
        "colab_type": "text"
      },
      "source": [
        "It is not needed encoding variables"
      ]
    },
    {
      "cell_type": "markdown",
      "metadata": {
        "id": "dmBMBfEb-GjN",
        "colab_type": "text"
      },
      "source": [
        "It is not needed normalize"
      ]
    },
    {
      "cell_type": "markdown",
      "metadata": {
        "colab_type": "text",
        "id": "JM7sG0Ex-xqg"
      },
      "source": [
        "## 5. Export to Google Drive"
      ]
    },
    {
      "cell_type": "code",
      "metadata": {
        "id": "isrfTApq-8Ai",
        "colab_type": "code",
        "colab": {}
      },
      "source": [
        "export_csv = videos.to_csv (r'/content/gdrive/My Drive/data/Zype/videosforbigquery.csv', index = None, header=True) #Don't forget to add '.csv' at the end of the path"
      ],
      "execution_count": 26,
      "outputs": []
    },
    {
      "cell_type": "markdown",
      "metadata": {
        "id": "YPNUt_rmQimK",
        "colab_type": "text"
      },
      "source": [
        "# 6. Automatic Loading new files"
      ]
    },
    {
      "cell_type": "code",
      "metadata": {
        "id": "_ZVCGjJJQgfq",
        "colab_type": "code",
        "colab": {
          "base_uri": "https://localhost:8080/",
          "height": 34
        },
        "outputId": "267f52e1-ac25-4aef-a691-c83aa7e3ae77"
      },
      "source": [
        "from google.colab import auth\n",
        "auth.authenticate_user()\n",
        "print('Authenticated')"
      ],
      "execution_count": 38,
      "outputs": [
        {
          "output_type": "stream",
          "text": [
            "Authenticated\n"
          ],
          "name": "stdout"
        }
      ]
    },
    {
      "cell_type": "code",
      "metadata": {
        "id": "vA51nh-1Q3Bh",
        "colab_type": "code",
        "colab": {}
      },
      "source": [
        "import pandas_gbq"
      ],
      "execution_count": 39,
      "outputs": []
    },
    {
      "cell_type": "code",
      "metadata": {
        "id": "rFHRLpKhTT3J",
        "colab_type": "code",
        "colab": {}
      },
      "source": [
        "table_id = 'ZypeVideos.VideosTable4'\n",
        "project_id = 'consummate-mark-284501'\n",
        "param = 'fail'"
      ],
      "execution_count": 40,
      "outputs": []
    },
    {
      "cell_type": "code",
      "metadata": {
        "id": "oad_4JU_Q31T",
        "colab_type": "code",
        "colab": {
          "base_uri": "https://localhost:8080/",
          "height": 80
        },
        "outputId": "85358b7f-ee58-4186-f371-e94f494c05ce"
      },
      "source": [
        "sql = \"\"\"\n",
        "select count(*) FROM ZypeVideos.VideosTable \n",
        "\"\"\"\n",
        "df = pandas_gbq.read_gbq(sql, project_id=project_id)\n",
        "df.head(10)"
      ],
      "execution_count": 43,
      "outputs": [
        {
          "output_type": "execute_result",
          "data": {
            "text/html": [
              "<div>\n",
              "<style scoped>\n",
              "    .dataframe tbody tr th:only-of-type {\n",
              "        vertical-align: middle;\n",
              "    }\n",
              "\n",
              "    .dataframe tbody tr th {\n",
              "        vertical-align: top;\n",
              "    }\n",
              "\n",
              "    .dataframe thead th {\n",
              "        text-align: right;\n",
              "    }\n",
              "</style>\n",
              "<table border=\"1\" class=\"dataframe\">\n",
              "  <thead>\n",
              "    <tr style=\"text-align: right;\">\n",
              "      <th></th>\n",
              "      <th>f0_</th>\n",
              "    </tr>\n",
              "  </thead>\n",
              "  <tbody>\n",
              "    <tr>\n",
              "      <th>0</th>\n",
              "      <td>45801</td>\n",
              "    </tr>\n",
              "  </tbody>\n",
              "</table>\n",
              "</div>"
            ],
            "text/plain": [
              "     f0_\n",
              "0  45801"
            ]
          },
          "metadata": {
            "tags": []
          },
          "execution_count": 43
        }
      ]
    },
    {
      "cell_type": "code",
      "metadata": {
        "id": "hGDAnLbTTydW",
        "colab_type": "code",
        "colab": {
          "base_uri": "https://localhost:8080/",
          "height": 1000
        },
        "outputId": "904cc710-73e8-4761-8fc8-9a309b9bf9ba"
      },
      "source": [
        "sql = \"\"\"\n",
        "SELECT * FROM ZypeVideos.VideosTable where title like '%Marvel%'\n",
        "\"\"\"\n",
        "df1 = pandas_gbq.read_gbq(sql, project_id=project_id)\n",
        "df1.head(10)"
      ],
      "execution_count": 51,
      "outputs": [
        {
          "output_type": "execute_result",
          "data": {
            "text/html": [
              "<div>\n",
              "<style scoped>\n",
              "    .dataframe tbody tr th:only-of-type {\n",
              "        vertical-align: middle;\n",
              "    }\n",
              "\n",
              "    .dataframe tbody tr th {\n",
              "        vertical-align: top;\n",
              "    }\n",
              "\n",
              "    .dataframe thead th {\n",
              "        text-align: right;\n",
              "    }\n",
              "</style>\n",
              "<table border=\"1\" class=\"dataframe\">\n",
              "  <thead>\n",
              "    <tr style=\"text-align: right;\">\n",
              "      <th></th>\n",
              "      <th>video_id</th>\n",
              "      <th>trending_date</th>\n",
              "      <th>title</th>\n",
              "      <th>channel_title</th>\n",
              "      <th>category_id</th>\n",
              "      <th>publish_time</th>\n",
              "      <th>tags</th>\n",
              "      <th>views</th>\n",
              "      <th>likes</th>\n",
              "      <th>dislikes</th>\n",
              "      <th>comment_count</th>\n",
              "      <th>thumbnail_link</th>\n",
              "      <th>comments_disabled</th>\n",
              "      <th>ratings_disabled</th>\n",
              "      <th>video_error_or_removed</th>\n",
              "      <th>description</th>\n",
              "      <th>category_name</th>\n",
              "    </tr>\n",
              "  </thead>\n",
              "  <tbody>\n",
              "    <tr>\n",
              "      <th>0</th>\n",
              "      <td>t1PXLMxuiPs</td>\n",
              "      <td>18.03.04</td>\n",
              "      <td>( Q&amp;A ) - Big Marvel</td>\n",
              "      <td>Big Marvel</td>\n",
              "      <td>10</td>\n",
              "      <td>2018-04-02 14:05:33+00:00</td>\n",
              "      <td>Reading Comments|\"big marvel\"</td>\n",
              "      <td>408581</td>\n",
              "      <td>54326</td>\n",
              "      <td>268</td>\n",
              "      <td>9913</td>\n",
              "      <td>https://i.ytimg.com/vi/t1PXLMxuiPs/default.jpg</td>\n",
              "      <td>False</td>\n",
              "      <td>False</td>\n",
              "      <td>False</td>\n",
              "      <td>thank you for watching this video please like ...</td>\n",
              "      <td>Music</td>\n",
              "    </tr>\n",
              "    <tr>\n",
              "      <th>1</th>\n",
              "      <td>z0DEnq9MGZY</td>\n",
              "      <td>18.10.05</td>\n",
              "      <td>FORTNITE DANCE CHALLENGE - Big Marvel</td>\n",
              "      <td>Big Marvel</td>\n",
              "      <td>10</td>\n",
              "      <td>2018-05-09 13:58:16+00:00</td>\n",
              "      <td>FORTNITE|\"FORTNITE DANCE\"|\"FORTNITE DANCE CHAL...</td>\n",
              "      <td>547952</td>\n",
              "      <td>56469</td>\n",
              "      <td>1857</td>\n",
              "      <td>5061</td>\n",
              "      <td>https://i.ytimg.com/vi/z0DEnq9MGZY/default.jpg</td>\n",
              "      <td>False</td>\n",
              "      <td>False</td>\n",
              "      <td>False</td>\n",
              "      <td>thank you for watching this video please like ...</td>\n",
              "      <td>Music</td>\n",
              "    </tr>\n",
              "    <tr>\n",
              "      <th>2</th>\n",
              "      <td>L3ymBk6Vb04</td>\n",
              "      <td>18.29.04</td>\n",
              "      <td>Avengers: Infinity War Cast Sings The Marvel B...</td>\n",
              "      <td>The Tonight Show Starring Jimmy Fallon</td>\n",
              "      <td>23</td>\n",
              "      <td>2018-04-26 03:45:00+00:00</td>\n",
              "      <td>The Tonight Show|\"Jimmy Fallon\"|\"Avengers\"|\"In...</td>\n",
              "      <td>5635627</td>\n",
              "      <td>237235</td>\n",
              "      <td>3079</td>\n",
              "      <td>9147</td>\n",
              "      <td>https://i.ytimg.com/vi/L3ymBk6Vb04/default.jpg</td>\n",
              "      <td>False</td>\n",
              "      <td>False</td>\n",
              "      <td>False</td>\n",
              "      <td>The cast of Avengers  Infinity War sing their ...</td>\n",
              "      <td>Comedy</td>\n",
              "    </tr>\n",
              "    <tr>\n",
              "      <th>3</th>\n",
              "      <td>L3ymBk6Vb04</td>\n",
              "      <td>18.30.04</td>\n",
              "      <td>Avengers: Infinity War Cast Sings The Marvel B...</td>\n",
              "      <td>The Tonight Show Starring Jimmy Fallon</td>\n",
              "      <td>23</td>\n",
              "      <td>2018-04-26 03:45:00+00:00</td>\n",
              "      <td>The Tonight Show|\"Jimmy Fallon\"|\"Avengers\"|\"In...</td>\n",
              "      <td>6893619</td>\n",
              "      <td>282829</td>\n",
              "      <td>3444</td>\n",
              "      <td>10728</td>\n",
              "      <td>https://i.ytimg.com/vi/L3ymBk6Vb04/default.jpg</td>\n",
              "      <td>False</td>\n",
              "      <td>False</td>\n",
              "      <td>False</td>\n",
              "      <td>The cast of Avengers  Infinity War sing their ...</td>\n",
              "      <td>Comedy</td>\n",
              "    </tr>\n",
              "    <tr>\n",
              "      <th>4</th>\n",
              "      <td>luh7RLYn1Bw</td>\n",
              "      <td>18.05.04</td>\n",
              "      <td>Marvel's Spider-Man - Pre-Order Video | PS4</td>\n",
              "      <td>PlayStation</td>\n",
              "      <td>20</td>\n",
              "      <td>2018-04-04 15:00:03+00:00</td>\n",
              "      <td>Marvel|\"Spider-Man\"|\"Preorder\"|\"release date\"|...</td>\n",
              "      <td>413937</td>\n",
              "      <td>14289</td>\n",
              "      <td>223</td>\n",
              "      <td>2401</td>\n",
              "      <td>https://i.ytimg.com/vi/luh7RLYn1Bw/default.jpg</td>\n",
              "      <td>False</td>\n",
              "      <td>False</td>\n",
              "      <td>False</td>\n",
              "      <td>Marvel s Spider Man will be available Septembe...</td>\n",
              "      <td>Gaming</td>\n",
              "    </tr>\n",
              "    <tr>\n",
              "      <th>5</th>\n",
              "      <td>wngt-csoPHg</td>\n",
              "      <td>17.30.11</td>\n",
              "      <td>Marvel Studios' Avengers: Infinity War Officia...</td>\n",
              "      <td>Ecomog Media Group</td>\n",
              "      <td>20</td>\n",
              "      <td>2017-11-29 16:07:35+00:00</td>\n",
              "      <td>ecomog|\"ecomogTV\"|\"Reaction\"|\"Trailer Reaction...</td>\n",
              "      <td>215375</td>\n",
              "      <td>13984</td>\n",
              "      <td>83</td>\n",
              "      <td>2247</td>\n",
              "      <td>https://i.ytimg.com/vi/wngt-csoPHg/default.jpg</td>\n",
              "      <td>False</td>\n",
              "      <td>False</td>\n",
              "      <td>False</td>\n",
              "      <td>Original Video  https   youtu be 6ZfuNTqbHE8 n...</td>\n",
              "      <td>Gaming</td>\n",
              "    </tr>\n",
              "    <tr>\n",
              "      <th>6</th>\n",
              "      <td>wngt-csoPHg</td>\n",
              "      <td>17.01.12</td>\n",
              "      <td>Marvel Studios' Avengers: Infinity War Officia...</td>\n",
              "      <td>Ecomog Media Group</td>\n",
              "      <td>20</td>\n",
              "      <td>2017-11-29 16:07:35+00:00</td>\n",
              "      <td>ecomog|\"ecomogTV\"|\"Reaction\"|\"Trailer Reaction...</td>\n",
              "      <td>333646</td>\n",
              "      <td>17902</td>\n",
              "      <td>142</td>\n",
              "      <td>2752</td>\n",
              "      <td>https://i.ytimg.com/vi/wngt-csoPHg/default.jpg</td>\n",
              "      <td>False</td>\n",
              "      <td>False</td>\n",
              "      <td>False</td>\n",
              "      <td>Original Video  https   youtu be 6ZfuNTqbHE8 n...</td>\n",
              "      <td>Gaming</td>\n",
              "    </tr>\n",
              "    <tr>\n",
              "      <th>7</th>\n",
              "      <td>eunPONMdJOo</td>\n",
              "      <td>17.16.12</td>\n",
              "      <td>Doing Stunts From Captain America: Civil War (...</td>\n",
              "      <td>Nick Pro</td>\n",
              "      <td>17</td>\n",
              "      <td>2017-12-15 20:52:29+00:00</td>\n",
              "      <td>civil war stunts|\"infinity war\"|\"captain ameri...</td>\n",
              "      <td>67464</td>\n",
              "      <td>1831</td>\n",
              "      <td>36</td>\n",
              "      <td>347</td>\n",
              "      <td>https://i.ytimg.com/vi/eunPONMdJOo/default.jpg</td>\n",
              "      <td>False</td>\n",
              "      <td>False</td>\n",
              "      <td>False</td>\n",
              "      <td>I recreated the stunts from the Captain Americ...</td>\n",
              "      <td>Sports</td>\n",
              "    </tr>\n",
              "    <tr>\n",
              "      <th>8</th>\n",
              "      <td>eunPONMdJOo</td>\n",
              "      <td>17.17.12</td>\n",
              "      <td>Doing Stunts From Captain America: Civil War (...</td>\n",
              "      <td>Nick Pro</td>\n",
              "      <td>17</td>\n",
              "      <td>2017-12-15 20:52:29+00:00</td>\n",
              "      <td>civil war stunts|\"infinity war\"|\"captain ameri...</td>\n",
              "      <td>172107</td>\n",
              "      <td>3273</td>\n",
              "      <td>88</td>\n",
              "      <td>433</td>\n",
              "      <td>https://i.ytimg.com/vi/eunPONMdJOo/default.jpg</td>\n",
              "      <td>False</td>\n",
              "      <td>False</td>\n",
              "      <td>False</td>\n",
              "      <td>I recreated the stunts from the Captain Americ...</td>\n",
              "      <td>Sports</td>\n",
              "    </tr>\n",
              "    <tr>\n",
              "      <th>9</th>\n",
              "      <td>p1DAEZNyJ8E</td>\n",
              "      <td>18.23.04</td>\n",
              "      <td>Avengers: Infinity War | Marvel Family Feud</td>\n",
              "      <td>Marvel Studios Movies</td>\n",
              "      <td>29</td>\n",
              "      <td>2018-04-22 23:21:45+00:00</td>\n",
              "      <td>Avengers: Infinity War|\"Avengers\"|\"scarlett jo...</td>\n",
              "      <td>56096</td>\n",
              "      <td>3791</td>\n",
              "      <td>43</td>\n",
              "      <td>580</td>\n",
              "      <td>https://i.ytimg.com/vi/p1DAEZNyJ8E/default.jpg</td>\n",
              "      <td>False</td>\n",
              "      <td>False</td>\n",
              "      <td>False</td>\n",
              "      <td>no_description</td>\n",
              "      <td>Unknown</td>\n",
              "    </tr>\n",
              "  </tbody>\n",
              "</table>\n",
              "</div>"
            ],
            "text/plain": [
              "      video_id  ... category_name\n",
              "0  t1PXLMxuiPs  ...         Music\n",
              "1  z0DEnq9MGZY  ...         Music\n",
              "2  L3ymBk6Vb04  ...        Comedy\n",
              "3  L3ymBk6Vb04  ...        Comedy\n",
              "4  luh7RLYn1Bw  ...        Gaming\n",
              "5  wngt-csoPHg  ...        Gaming\n",
              "6  wngt-csoPHg  ...        Gaming\n",
              "7  eunPONMdJOo  ...        Sports\n",
              "8  eunPONMdJOo  ...        Sports\n",
              "9  p1DAEZNyJ8E  ...       Unknown\n",
              "\n",
              "[10 rows x 17 columns]"
            ]
          },
          "metadata": {
            "tags": []
          },
          "execution_count": 51
        }
      ]
    },
    {
      "cell_type": "markdown",
      "metadata": {
        "id": "r7T2ZsV0wgyd",
        "colab_type": "text"
      },
      "source": [
        "Example for writing into BIG Query"
      ]
    },
    {
      "cell_type": "code",
      "metadata": {
        "id": "PDObwMY0VaqV",
        "colab_type": "code",
        "colab": {}
      },
      "source": [
        "#pandas_gbq.to_gbq(videos, table_id, project_id=project_id, if_exists= append) "
      ],
      "execution_count": null,
      "outputs": []
    },
    {
      "cell_type": "code",
      "metadata": {
        "id": "kD80UL0huIMn",
        "colab_type": "code",
        "colab": {}
      },
      "source": [
        ""
      ],
      "execution_count": null,
      "outputs": []
    },
    {
      "cell_type": "markdown",
      "metadata": {
        "id": "qxs9VnWsuYdN",
        "colab_type": "text"
      },
      "source": [
        "# SQL Analytical Queries (Excecute it in Big Query)"
      ]
    },
    {
      "cell_type": "markdown",
      "metadata": {
        "id": "KLbfWgBbuhZn",
        "colab_type": "text"
      },
      "source": [
        "## 1. Show Top 10 viewed videos by each category"
      ]
    },
    {
      "cell_type": "code",
      "metadata": {
        "id": "J9JVV2rkVavM",
        "colab_type": "code",
        "colab": {}
      },
      "source": [
        "#1. Show Top 10 viewed videos by each category\n",
        "\n",
        "#SELECT * FROM  \tZypeVideos.VideosTable WHERE video_id = '_1mIPOYZzfo'\n",
        "\n",
        "\n",
        "# First Step, list videos and sum views\n",
        "\n",
        "SELECT category_name, video_id, title, MAX (views) AS views\n",
        "FROM \tZypeVideos.VideosTable WHERE CATEGORY_NAME IS NOT NULL\n",
        "GROUP BY category_name, video_id, title ;\n",
        "\n",
        "#Second Step, RANK by Category\n",
        "/*\n",
        "SELECT \n",
        "\t\tcategory_name, video_id, title, views,\n",
        "\t\tRANK() OVER(\n",
        "\t\t\tPARTITION BY category_name\n",
        "\t\t\tORDER BY views DESC) \n",
        "\t\t\tview_rank\n",
        "\tFROM \n",
        "\t\t(\n",
        "           SELECT category_name, video_id, title, MAX (views) AS views\n",
        "        FROM \tZypeVideos.VideosTable WHERE CATEGORY_NAME IS NOT NULL\n",
        "        GROUP BY category_name, video_id, title \n",
        "    )\n",
        "*/\n",
        "#Third Step, RANK by Category only top 10\n",
        " \n",
        "/*\n",
        " WITH top_categories as (\n",
        "SELECT \n",
        "\t\tcategory_name, video_id, title, views,\n",
        "\t\tRANK() OVER(\n",
        "\t\t\tPARTITION BY category_name\n",
        "\t\t\tORDER BY views DESC) \n",
        "\t\t\tview_rank\n",
        "\tFROM \n",
        "\t\t(\n",
        "        SELECT category_name, video_id, title, MAX (views) AS views\n",
        "          FROM \tZypeVideos.VideosTable WHERE CATEGORY_NAME IS NOT NULL\n",
        "           GROUP BY category_name, video_id, title\n",
        "    )\n",
        "    )\n",
        "    SELECT \n",
        "    category_name, video_id, title, views, view_rank\n",
        "    FROM top_categories\n",
        "    where view_rank <= 10\n",
        "    ;\n",
        "\n"
      ],
      "execution_count": null,
      "outputs": []
    },
    {
      "cell_type": "markdown",
      "metadata": {
        "colab_type": "text",
        "id": "BBZkWaJtu1SU"
      },
      "source": [
        "## 2. Show 5 overall disliked videos"
      ]
    },
    {
      "cell_type": "code",
      "metadata": {
        "colab_type": "code",
        "id": "PqlEwcrLu1SU",
        "colab": {}
      },
      "source": [
        "#2. Show 5 overall disliked videos\n",
        "\n",
        "SELECT  video_id, title, MAX (dislikes) AS dislikes\n",
        "  FROM \tZypeVideos.VideosTable \n",
        "GROUP BY video_id, title\n",
        "ORDER BY 3  DESC\n",
        "LIMIT 5\n"
      ],
      "execution_count": null,
      "outputs": []
    },
    {
      "cell_type": "markdown",
      "metadata": {
        "colab_type": "text",
        "id": "zaB512k7vLTE"
      },
      "source": [
        "## 3. Show the average number of likes in ‘Autos & Vehicles’ category"
      ]
    },
    {
      "cell_type": "code",
      "metadata": {
        "colab_type": "code",
        "id": "vHM-utc7vLTE",
        "colab": {}
      },
      "source": [
        "#3. Show the average number of likes in ‘Autos & Vehicles’ category\n",
        "\n",
        "\n",
        "#per videos\n",
        " SELECT AVG(likes) AS AVERAGE_LIKES\n",
        "FROM (\n",
        "\n",
        "SELECT category_name, video_id, title, MAX (likes) AS likes\n",
        "FROM \tZypeVideos.VideosTable WHERE CATEGORY_NAME = 'Autos & Vehicles'\n",
        "GROUP BY category_name, video_id, title\n",
        ")\n",
        "\n"
      ],
      "execution_count": null,
      "outputs": []
    },
    {
      "cell_type": "markdown",
      "metadata": {
        "colab_type": "text",
        "id": "QQglf1GJvPir"
      },
      "source": [
        "## 4. Show number of unique videos in top 3 categories by likes, published during 2014-2018"
      ]
    },
    {
      "cell_type": "code",
      "metadata": {
        "colab_type": "code",
        "id": "UmES6_ltvPis",
        "colab": {}
      },
      "source": [
        "#4. Show number of unique videos in top 3 categories by likes, published during 2014-2018\n",
        "\n",
        "#top 3 categories by likes\n",
        "\n",
        "SELECT COUNT (DISTINCT video_id ) AS COUNT_UNIQUE_VIDEOS\n",
        "FROM ZypeVideos.VideosTable\n",
        "WHERE CATEGORY_NAME IN (\n",
        "\n",
        "                      SELECT category_name\n",
        "                          FROM \n",
        "                          (\n",
        "                                SELECT category_name, video_id, title, MAX (likes) AS likes\n",
        "                                FROM \tZypeVideos.VideosTable \n",
        "                                GROUP BY category_name, video_id, title\n",
        "                          )\n",
        "                          GROUP BY category_name\n",
        "                          ORDER BY SUM (likes) DESC\n",
        "                          LIMIT 3\n",
        "                      )\n",
        "        AND EXTRACT (YEAR FROM publish_time) between 2014 and 2018\n",
        "\n"
      ],
      "execution_count": null,
      "outputs": []
    }
  ]
}